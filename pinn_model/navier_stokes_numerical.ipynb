{
 "cells": [
  {
   "cell_type": "code",
   "execution_count": 1,
   "metadata": {},
   "outputs": [
    {
     "name": "stderr",
     "output_type": "stream",
     "text": [
      "2024-03-19 13:07:23.466908: I tensorflow/core/platform/cpu_feature_guard.cc:193] This TensorFlow binary is optimized with oneAPI Deep Neural Network Library (oneDNN) to use the following CPU instructions in performance-critical operations:  SSE4.1 SSE4.2 AVX AVX2 FMA\n",
      "To enable them in other operations, rebuild TensorFlow with the appropriate compiler flags.\n",
      "Using backend: tensorflow\n",
      "Other supported backends: tensorflow.compat.v1, pytorch, jax, paddle.\n",
      "paddle supports more examples now and is recommended.\n"
     ]
    },
    {
     "name": "stdout",
     "output_type": "stream",
     "text": [
      "Setting the default backend to \"tensorflow\". You can change it in the ~/.deepxde/config.json file or export the DDE_BACKEND environment variable. Valid options are: tensorflow.compat.v1, tensorflow, pytorch, jax, paddle (all lowercase)\n"
     ]
    }
   ],
   "source": [
    "import numpy as np\n",
    "\n",
    "# For plotting\n",
    "import matplotlib.pyplot as plt\n",
    "from scipy.interpolate import griddata\n",
    "\n",
    "import deepxde as dde\n",
    "dde.backend.set_default_backend(\"tensorflow\")\n",
    "import deepxde.backend as tf"
   ]
  },
  {
   "cell_type": "code",
   "execution_count": null,
   "metadata": {},
   "outputs": [],
   "source": [
    "t_max = 5\n",
    "R = 5\n",
    "H = 3\n",
    "h = 2\n",
    "A = 0.01\n",
    "mu = 1\n",
    "mu_z = 10\n",
    "\n",
    "r_min = 0.01\n",
    "r_max = R\n",
    "z_min = 0\n",
    "z_max = H\n",
    "\n",
    "t_points = 64\n",
    "r_points = 64\n",
    "z_points = 64\n",
    "\n",
    "# Creation of the 2D domain (for plotting and input)\n",
    "r = np.linspace(r_min, r_max, r_points)\n",
    "z = np.linspace(z_min, z_max, z_points)\n",
    "r, z = np.meshgrid(r, z)\n",
    "\n",
    "space_domain = dde.geometry.Rectangle([r_min, z_min], [r_max, z_max])\n",
    "time_domain = dde.geometry.TimeDomain(0, t_max)\n",
    "domain = dde.geometry.GeometryXTime(space_domain, time_domain)"
   ]
  },
  {
   "cell_type": "code",
   "execution_count": null,
   "metadata": {},
   "outputs": [],
   "source": [
    "def pde(x, y):\n",
    "    \"\"\"\n",
    "    INPUTS:\n",
    "        x: x[:,0] is r-coordinate\n",
    "           x[:,1] is z-coordinate\n",
    "           x[:,2] is t-coordinate\n",
    "        y: Network output, in this case:\n",
    "            y[:,0] is v_r(r, z, t) the speed for r component\n",
    "            y[:,1] is v_z(r, z, t) the speed for z component\n",
    "            y[:,1] is p(r, z, t) the pressure\n",
    "    OUTPUT:\n",
    "        The pde in standard form i.e. something that must be zero\n",
    "    \"\"\"\n",
    "    r, z, t = x[:,0], x[:, 1], x[:, 2]\n",
    "    vr, vz, p = y[:,0], y[:, 1], y[:, 2]\n",
    "    dvr_t = dde.grad.jacobian(y, x, i=0, j=2)\n",
    "    dvz_t = dde.grad.jacobian(y, x, i=1, j=2)\n",
    "    dvr_r = dde.grad.jacobian(y, x, i=0, j=0)\n",
    "    dvz_r = dde.grad.jacobian(y, x, i=1, j=0)\n",
    "    dvr_z = dde.grad.jacobian(y, x, i=0, j=1)\n",
    "    dvz_z = dde.grad.jacobian(y, x, i=1, j=1)\n",
    "    dp_r =  dde.grad.jacobian(y, x, i=2, j=0)\n",
    "    dp_z =  dde.grad.jacobian(y, x, i=2, j=1)\n",
    "\n",
    "    d2vr_z2 = dde.grad.hessian(y, x, component=0, i=1, j=1)\n",
    "    d2vz_z2 = dde.grad.hessian(y, x, component=1, i=1, j=1)\n",
    "    d2vr_r2 = dde.grad.hessian(y, x, component=0, i=0, j=0)\n",
    "    d2vz_r2 = dde.grad.hessian(y, x, component=1, i=0, j=0)\n",
    "    \n",
    "    f_vr = dvr_t + vr * dvr_r + vz * dvr_z + 1 / R * dp_r - mu * (1 / r * dvr_r + d2vr_r2 + d2vr_z2 - vr / r ** 2)\n",
    "    f_vz = dvz_t + vr * dvz_r + vz * dvz_z + 1 / R * dp_z - mu * (1 / r * dvz_r + d2vz_r2 + d2vz_z2)\n",
    "    f_continuity = dvr_r + vr / r + dvz_z\n",
    "\n",
    "    return [f_vr, f_vz, f_continuity]"
   ]
  },
  {
   "cell_type": "code",
   "execution_count": null,
   "metadata": {},
   "outputs": [],
   "source": [
    "# Boundary and Initial conditions\n",
    "def boundary(x, on_boundary):\n",
    "    if x[0] == r_min:\n",
    "        return False\n",
    "    return on_boundary\n",
    "\n",
    "def boundary_r(x):\n",
    "    return 0\n",
    "\n",
    "def boundary_z(x):\n",
    "    r, z, t = x[:,0], x[:, 1], x[:, 2]\n",
    "    return A * np.cos(np.pi * r / (2 * R)) * np.sin(2 * np.pi * mu_z)\n",
    "\n",
    "\n",
    "# Initial conditions\n",
    "def init_cond_z(x):\n",
    "    return 0\n",
    "\n",
    "def init_cond_r(x):\n",
    "    return 0\n",
    "\n",
    "bc_r_0 = dde.icbc.DirichletBC(domain, boundary_r, boundary, component=0)\n",
    "bc_z_0 = dde.icbc.DirichletBC(domain, boundary_z, boundary, component=1)\n",
    "\n",
    "bc_r_1 = dde.icbc.NeumannBC(domain, boundary_r, boundary, component=0)\n",
    "bc_z_1 = dde.icbc.NeumannBC(domain, boundary_z, boundary, component=1)\n",
    "\n",
    "ic_r = dde.icbc.IC(domain, init_cond_r, boundary, component=0)\n",
    "ic_z = dde.icbc.IC(domain, init_cond_z, boundary, component=1)\n",
    "\n"
   ]
  },
  {
   "cell_type": "code",
   "execution_count": null,
   "metadata": {},
   "outputs": [],
   "source": [
    "data = dde.data.TimePDE(domain, pde, [bc_r_0, bc_z_0, ic_r, ic_z],\n",
    "                         num_domain=r_points * z_points,\n",
    "                         num_boundary=z_points,\n",
    "                         num_initial=r_points,\n",
    "                         train_distribution=\"pseudo\",\n",
    ")\n",
    "\n",
    "# Network architecture\n",
    "net = dde.nn.FNN([3] + [32] * 4 + [3], \"tanh\", \"Glorot normal\")\n",
    "model = dde.Model(data, net)"
   ]
  },
  {
   "cell_type": "code",
   "execution_count": null,
   "metadata": {},
   "outputs": [],
   "source": [
    "# To employ a GPU accelerated system is highly encouraged.\n",
    "\n",
    "model.compile(\"adam\", lr=1e-3, loss=\"MSE\")\n",
    "model.train(iterations=1000, display_every=1)"
   ]
  },
  {
   "cell_type": "code",
   "execution_count": null,
   "metadata": {},
   "outputs": [],
   "source": [
    "model.losshistory"
   ]
  },
  {
   "cell_type": "code",
   "execution_count": null,
   "metadata": {},
   "outputs": [],
   "source": []
  }
 ],
 "metadata": {
  "kernelspec": {
   "display_name": "pinn-env",
   "language": "python",
   "name": "python3"
  },
  "language_info": {
   "codemirror_mode": {
    "name": "ipython",
    "version": 3
   },
   "file_extension": ".py",
   "mimetype": "text/x-python",
   "name": "python",
   "nbconvert_exporter": "python",
   "pygments_lexer": "ipython3",
   "version": "3.9.18"
  }
 },
 "nbformat": 4,
 "nbformat_minor": 2
}
